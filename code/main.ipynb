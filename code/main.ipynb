{
 "cells": [
  {
   "cell_type": "markdown",
   "metadata": {},
   "source": [
    "# Dataset Load and Analysis or EDA"
   ]
  },
  {
   "cell_type": "code",
   "execution_count": 1,
   "metadata": {
    "_cell_guid": "b1076dfc-b9ad-4769-8c92-a6c4dae69d19",
    "_uuid": "8f2839f25d086af736a60e9eeb907d3b93b6e0e5",
    "execution": {
     "iopub.execute_input": "2025-01-22T07:47:58.351631Z",
     "iopub.status.busy": "2025-01-22T07:47:58.351275Z",
     "iopub.status.idle": "2025-01-22T07:47:58.373140Z",
     "shell.execute_reply": "2025-01-22T07:47:58.372137Z",
     "shell.execute_reply.started": "2025-01-22T07:47:58.351603Z"
    },
    "trusted": true
   },
   "outputs": [
    {
     "name": "stdout",
     "output_type": "stream",
     "text": [
      "../data/input/NER_Training_Data.xlsx\n"
     ]
    }
   ],
   "source": [
    "\n",
    "\n",
    "import numpy as np \n",
    "import pandas as pd \n",
    "\n",
    "\n",
    "import os\n",
    "for dirname, _, filenames in os.walk('../data/input'):\n",
    "    for filename in filenames:\n",
    "        print(os.path.join(dirname, filename))\n"
   ]
  },
  {
   "cell_type": "code",
   "execution_count": 2,
   "metadata": {
    "execution": {
     "iopub.execute_input": "2025-01-22T07:47:58.374777Z",
     "iopub.status.busy": "2025-01-22T07:47:58.374494Z",
     "iopub.status.idle": "2025-01-22T07:48:00.371843Z",
     "shell.execute_reply": "2025-01-22T07:48:00.371096Z",
     "shell.execute_reply.started": "2025-01-22T07:47:58.374753Z"
    },
    "trusted": true
   },
   "outputs": [
    {
     "data": {
      "text/html": [
       "<div>\n",
       "<style scoped>\n",
       "    .dataframe tbody tr th:only-of-type {\n",
       "        vertical-align: middle;\n",
       "    }\n",
       "\n",
       "    .dataframe tbody tr th {\n",
       "        vertical-align: top;\n",
       "    }\n",
       "\n",
       "    .dataframe thead th {\n",
       "        text-align: right;\n",
       "    }\n",
       "</style>\n",
       "<table border=\"1\" class=\"dataframe\">\n",
       "  <thead>\n",
       "    <tr style=\"text-align: right;\">\n",
       "      <th></th>\n",
       "      <th>Messege</th>\n",
       "      <th>username</th>\n",
       "      <th>authorname</th>\n",
       "      <th>Address</th>\n",
       "      <th>bookname</th>\n",
       "      <th>productname</th>\n",
       "      <th>publishername</th>\n",
       "      <th>categoryname</th>\n",
       "      <th>brandname</th>\n",
       "      <th>date</th>\n",
       "      <th>phoneno</th>\n",
       "      <th>orderno</th>\n",
       "      <th>trnx ID</th>\n",
       "    </tr>\n",
       "  </thead>\n",
       "  <tbody>\n",
       "    <tr>\n",
       "      <th>0</th>\n",
       "      <td>ami ei book ta nite chai</td>\n",
       "      <td>NaN</td>\n",
       "      <td>NaN</td>\n",
       "      <td>NaN</td>\n",
       "      <td>NaN</td>\n",
       "      <td>NaN</td>\n",
       "      <td>NaN</td>\n",
       "      <td>NaN</td>\n",
       "      <td>NaN</td>\n",
       "      <td>NaN</td>\n",
       "      <td>NaN</td>\n",
       "      <td>NaN</td>\n",
       "      <td>NaN</td>\n",
       "    </tr>\n",
       "    <tr>\n",
       "      <th>1</th>\n",
       "      <td>Boi kinte cai ami</td>\n",
       "      <td>NaN</td>\n",
       "      <td>NaN</td>\n",
       "      <td>NaN</td>\n",
       "      <td>NaN</td>\n",
       "      <td>NaN</td>\n",
       "      <td>NaN</td>\n",
       "      <td>NaN</td>\n",
       "      <td>NaN</td>\n",
       "      <td>NaN</td>\n",
       "      <td>NaN</td>\n",
       "      <td>NaN</td>\n",
       "      <td>NaN</td>\n",
       "    </tr>\n",
       "    <tr>\n",
       "      <th>2</th>\n",
       "      <td>Helo My Name is Rajib, Cell: 1744898066. I nee...</td>\n",
       "      <td>Rajib</td>\n",
       "      <td>Language Guru, Amy Gillett</td>\n",
       "      <td>NaN</td>\n",
       "      <td>English Conversation Made Natural, Speak Engli...</td>\n",
       "      <td>NaN</td>\n",
       "      <td>NaN</td>\n",
       "      <td>NaN</td>\n",
       "      <td>NaN</td>\n",
       "      <td>NaN</td>\n",
       "      <td>1.744898e+09</td>\n",
       "      <td>NaN</td>\n",
       "      <td>NaN</td>\n",
       "    </tr>\n",
       "    <tr>\n",
       "      <th>3</th>\n",
       "      <td>Apnara ki IELTS book sell koren</td>\n",
       "      <td>NaN</td>\n",
       "      <td>NaN</td>\n",
       "      <td>NaN</td>\n",
       "      <td>IELTS</td>\n",
       "      <td>NaN</td>\n",
       "      <td>NaN</td>\n",
       "      <td>NaN</td>\n",
       "      <td>NaN</td>\n",
       "      <td>NaN</td>\n",
       "      <td>NaN</td>\n",
       "      <td>NaN</td>\n",
       "      <td>NaN</td>\n",
       "    </tr>\n",
       "    <tr>\n",
       "      <th>4</th>\n",
       "      <td>পদ্মজা black edition tar price koto</td>\n",
       "      <td>NaN</td>\n",
       "      <td>NaN</td>\n",
       "      <td>NaN</td>\n",
       "      <td>পদ্মজা</td>\n",
       "      <td>NaN</td>\n",
       "      <td>NaN</td>\n",
       "      <td>NaN</td>\n",
       "      <td>NaN</td>\n",
       "      <td>NaN</td>\n",
       "      <td>NaN</td>\n",
       "      <td>NaN</td>\n",
       "      <td>NaN</td>\n",
       "    </tr>\n",
       "    <tr>\n",
       "      <th>5</th>\n",
       "      <td>amake Higher math 1st paper er guide pdf deoya...</td>\n",
       "      <td>NaN</td>\n",
       "      <td>NaN</td>\n",
       "      <td>NaN</td>\n",
       "      <td>Higher math 1st paper</td>\n",
       "      <td>NaN</td>\n",
       "      <td>NaN</td>\n",
       "      <td>NaN</td>\n",
       "      <td>NaN</td>\n",
       "      <td>NaN</td>\n",
       "      <td>NaN</td>\n",
       "      <td>NaN</td>\n",
       "      <td>NaN</td>\n",
       "    </tr>\n",
       "    <tr>\n",
       "      <th>6</th>\n",
       "      <td>সমরেশ মজুমদারের কালবেলা</td>\n",
       "      <td>NaN</td>\n",
       "      <td>সমরেশ মজুমদারের</td>\n",
       "      <td>NaN</td>\n",
       "      <td>কালবেলা</td>\n",
       "      <td>NaN</td>\n",
       "      <td>NaN</td>\n",
       "      <td>NaN</td>\n",
       "      <td>NaN</td>\n",
       "      <td>NaN</td>\n",
       "      <td>NaN</td>\n",
       "      <td>NaN</td>\n",
       "      <td>NaN</td>\n",
       "    </tr>\n",
       "    <tr>\n",
       "      <th>7</th>\n",
       "      <td>poddoja black addition hbe.?</td>\n",
       "      <td>NaN</td>\n",
       "      <td>NaN</td>\n",
       "      <td>NaN</td>\n",
       "      <td>poddoja black addition</td>\n",
       "      <td>NaN</td>\n",
       "      <td>NaN</td>\n",
       "      <td>NaN</td>\n",
       "      <td>NaN</td>\n",
       "      <td>NaN</td>\n",
       "      <td>NaN</td>\n",
       "      <td>NaN</td>\n",
       "      <td>NaN</td>\n",
       "    </tr>\n",
       "    <tr>\n",
       "      <th>8</th>\n",
       "      <td>Ai boi duta hobe?</td>\n",
       "      <td>NaN</td>\n",
       "      <td>NaN</td>\n",
       "      <td>NaN</td>\n",
       "      <td>NaN</td>\n",
       "      <td>NaN</td>\n",
       "      <td>NaN</td>\n",
       "      <td>NaN</td>\n",
       "      <td>NaN</td>\n",
       "      <td>NaN</td>\n",
       "      <td>NaN</td>\n",
       "      <td>NaN</td>\n",
       "      <td>NaN</td>\n",
       "    </tr>\n",
       "    <tr>\n",
       "      <th>9</th>\n",
       "      <td>but cant found this in your website</td>\n",
       "      <td>NaN</td>\n",
       "      <td>NaN</td>\n",
       "      <td>NaN</td>\n",
       "      <td>NaN</td>\n",
       "      <td>NaN</td>\n",
       "      <td>NaN</td>\n",
       "      <td>NaN</td>\n",
       "      <td>NaN</td>\n",
       "      <td>NaN</td>\n",
       "      <td>NaN</td>\n",
       "      <td>NaN</td>\n",
       "      <td>NaN</td>\n",
       "    </tr>\n",
       "  </tbody>\n",
       "</table>\n",
       "</div>"
      ],
      "text/plain": [
       "                                             Messege username  \\\n",
       "0                           ami ei book ta nite chai      NaN   \n",
       "1                                  Boi kinte cai ami      NaN   \n",
       "2  Helo My Name is Rajib, Cell: 1744898066. I nee...    Rajib   \n",
       "3                    Apnara ki IELTS book sell koren      NaN   \n",
       "4                পদ্মজা black edition tar price koto      NaN   \n",
       "5  amake Higher math 1st paper er guide pdf deoya...      NaN   \n",
       "6                            সমরেশ মজুমদারের কালবেলা      NaN   \n",
       "7                       poddoja black addition hbe.?      NaN   \n",
       "8                                  Ai boi duta hobe?      NaN   \n",
       "9                but cant found this in your website      NaN   \n",
       "\n",
       "                   authorname  Address  \\\n",
       "0                         NaN      NaN   \n",
       "1                         NaN      NaN   \n",
       "2  Language Guru, Amy Gillett      NaN   \n",
       "3                         NaN      NaN   \n",
       "4                         NaN      NaN   \n",
       "5                         NaN      NaN   \n",
       "6             সমরেশ মজুমদারের      NaN   \n",
       "7                         NaN      NaN   \n",
       "8                         NaN      NaN   \n",
       "9                         NaN      NaN   \n",
       "\n",
       "                                            bookname  productname  \\\n",
       "0                                                NaN          NaN   \n",
       "1                                                NaN          NaN   \n",
       "2  English Conversation Made Natural, Speak Engli...          NaN   \n",
       "3                                              IELTS          NaN   \n",
       "4                                             পদ্মজা          NaN   \n",
       "5                              Higher math 1st paper          NaN   \n",
       "6                                            কালবেলা          NaN   \n",
       "7                             poddoja black addition          NaN   \n",
       "8                                                NaN          NaN   \n",
       "9                                                NaN          NaN   \n",
       "\n",
       "   publishername  categoryname  brandname  date       phoneno  orderno  \\\n",
       "0            NaN           NaN        NaN   NaN           NaN      NaN   \n",
       "1            NaN           NaN        NaN   NaN           NaN      NaN   \n",
       "2            NaN           NaN        NaN   NaN  1.744898e+09      NaN   \n",
       "3            NaN           NaN        NaN   NaN           NaN      NaN   \n",
       "4            NaN           NaN        NaN   NaN           NaN      NaN   \n",
       "5            NaN           NaN        NaN   NaN           NaN      NaN   \n",
       "6            NaN           NaN        NaN   NaN           NaN      NaN   \n",
       "7            NaN           NaN        NaN   NaN           NaN      NaN   \n",
       "8            NaN           NaN        NaN   NaN           NaN      NaN   \n",
       "9            NaN           NaN        NaN   NaN           NaN      NaN   \n",
       "\n",
       "   trnx ID  \n",
       "0      NaN  \n",
       "1      NaN  \n",
       "2      NaN  \n",
       "3      NaN  \n",
       "4      NaN  \n",
       "5      NaN  \n",
       "6      NaN  \n",
       "7      NaN  \n",
       "8      NaN  \n",
       "9      NaN  "
      ]
     },
     "execution_count": 2,
     "metadata": {},
     "output_type": "execute_result"
    }
   ],
   "source": [
    "df = pd.read_excel('../data/input/NER_Training_Data.xlsx')\n",
    "df.head(10)"
   ]
  },
  {
   "cell_type": "code",
   "execution_count": 3,
   "metadata": {
    "execution": {
     "iopub.execute_input": "2025-01-22T07:48:00.393348Z",
     "iopub.status.busy": "2025-01-22T07:48:00.392997Z",
     "iopub.status.idle": "2025-01-22T07:48:00.404825Z",
     "shell.execute_reply": "2025-01-22T07:48:00.403941Z",
     "shell.execute_reply.started": "2025-01-22T07:48:00.393323Z"
    },
    "trusted": true
   },
   "outputs": [
    {
     "data": {
      "text/plain": [
       "0                                 ami ei book ta nite chai\n",
       "1                                        Boi kinte cai ami\n",
       "2        Helo My Name is Rajib, Cell: 1744898066. I nee...\n",
       "3                          Apnara ki IELTS book sell koren\n",
       "4                      পদ্মজা black edition tar price koto\n",
       "                               ...                        \n",
       "11980      Jafor ikbal r humayun Ahmed ar boi ki pawa jabe\n",
       "11981        সমরেশ মজুমদারের কালপুরুষ উপন্যাসটার দাম কত,,?\n",
       "11982     Priyotomo oshukh she by sadat Hossain available?\n",
       "11983                            Price koto janaben please\n",
       "11984                      VARSITY A UNIT WRITTEN MEGABOOK\n",
       "Name: Messege, Length: 11985, dtype: object"
      ]
     },
     "execution_count": 3,
     "metadata": {},
     "output_type": "execute_result"
    }
   ],
   "source": [
    "# extract messages\n",
    "messages_df = df['Messege']\n",
    "messages_df"
   ]
  },
  {
   "cell_type": "markdown",
   "metadata": {},
   "source": [
    "## Remove URL"
   ]
  },
  {
   "cell_type": "code",
   "execution_count": 4,
   "metadata": {
    "execution": {
     "iopub.execute_input": "2025-01-22T07:48:00.406231Z",
     "iopub.status.busy": "2025-01-22T07:48:00.405880Z",
     "iopub.status.idle": "2025-01-22T07:48:00.485817Z",
     "shell.execute_reply": "2025-01-22T07:48:00.485049Z",
     "shell.execute_reply.started": "2025-01-22T07:48:00.406198Z"
    },
    "trusted": true
   },
   "outputs": [
    {
     "data": {
      "text/plain": [
       "0                             ami ei book ta nite chai\n",
       "1                                    Boi kinte cai ami\n",
       "2    Helo My Name is Rajib, Cell: 1744898066. I nee...\n",
       "3                      Apnara ki IELTS book sell koren\n",
       "4                  পদ্মজা black edition tar price koto\n",
       "5    amake Higher math 1st paper er guide pdf deoya...\n",
       "6                              সমরেশ মজুমদারের কালবেলা\n",
       "7                         poddoja black addition hbe.?\n",
       "8                                    Ai boi duta hobe?\n",
       "9                  but cant found this in your website\n",
       "Name: Messege, dtype: object"
      ]
     },
     "execution_count": 4,
     "metadata": {},
     "output_type": "execute_result"
    }
   ],
   "source": [
    "import pandas as pd\n",
    "import re\n",
    "\n",
    "def remove_urls(text):\n",
    "    \"\"\"Remove URLs while preserving the rest of the text\"\"\"\n",
    "    if pd.isna(text):\n",
    "        return text\n",
    "    \n",
    "    # URL pattern\n",
    "    url_pattern = r'http[s]?://(?:[a-zA-Z]|[0-9]|[$-_@.&+]|[!*\\\\(\\\\),]|(?:%[0-9a-fA-F][0-9a-fA-F]))+'\n",
    "    \n",
    "    text = re.sub(url_pattern, '', str(text))\n",
    "    \n",
    "    text = re.sub(r'\\s+', ' ', text).strip()\n",
    "    \n",
    "    return text\n",
    "\n",
    "messages_df = messages_df.apply(remove_urls)\n",
    "\n",
    "messages_df.head(10)"
   ]
  },
  {
   "cell_type": "markdown",
   "metadata": {},
   "source": [
    "## Remove Empty Srting"
   ]
  },
  {
   "cell_type": "code",
   "execution_count": 5,
   "metadata": {
    "execution": {
     "iopub.execute_input": "2025-01-22T07:48:00.486904Z",
     "iopub.status.busy": "2025-01-22T07:48:00.486675Z",
     "iopub.status.idle": "2025-01-22T07:48:00.511197Z",
     "shell.execute_reply": "2025-01-22T07:48:00.510417Z",
     "shell.execute_reply.started": "2025-01-22T07:48:00.486884Z"
    },
    "trusted": true
   },
   "outputs": [
    {
     "name": "stdout",
     "output_type": "stream",
     "text": [
      "Sample messages:\n",
      "0                             ami ei book ta nite chai\n",
      "1                                    Boi kinte cai ami\n",
      "2    Helo My Name is Rajib, Cell: 1744898066. I nee...\n",
      "3                      Apnara ki IELTS book sell koren\n",
      "4                  পদ্মজা black edition tar price koto\n",
      "Name: Messege, dtype: object\n",
      "\n",
      "Total messages after cleaning: 11923\n"
     ]
    }
   ],
   "source": [
    "import pandas as pd\n",
    "import re\n",
    "\n",
    "def clean_messages(messages_df):\n",
    "    # Remove URLs\n",
    "    messages_df = messages_df.apply(lambda x: re.sub(r'http[s]?://\\S+', '', str(x)))\n",
    "    \n",
    "    # Remove empty strings and whitespace-only strings\n",
    "    messages_df = messages_df[messages_df.str.strip() != '']\n",
    "    \n",
    "    return messages_df\n",
    "\n",
    "messages_df = clean_messages(messages_df)\n",
    "\n",
    "print(\"Sample messages:\")\n",
    "print(messages_df.head())\n",
    "print(f\"\\nTotal messages after cleaning: {len(messages_df)}\")"
   ]
  },
  {
   "cell_type": "markdown",
   "metadata": {},
   "source": [
    "## Null Value Check"
   ]
  },
  {
   "cell_type": "code",
   "execution_count": 6,
   "metadata": {
    "execution": {
     "iopub.execute_input": "2025-01-22T07:48:00.512389Z",
     "iopub.status.busy": "2025-01-22T07:48:00.512117Z",
     "iopub.status.idle": "2025-01-22T07:48:00.525098Z",
     "shell.execute_reply": "2025-01-22T07:48:00.524299Z",
     "shell.execute_reply.started": "2025-01-22T07:48:00.512366Z"
    },
    "trusted": true
   },
   "outputs": [
    {
     "data": {
      "text/plain": [
       "0"
      ]
     },
     "execution_count": 6,
     "metadata": {},
     "output_type": "execute_result"
    }
   ],
   "source": [
    "messages_df.isna().sum()"
   ]
  },
  {
   "cell_type": "markdown",
   "metadata": {},
   "source": [
    "## Duplicate checking"
   ]
  },
  {
   "cell_type": "code",
   "execution_count": 7,
   "metadata": {
    "execution": {
     "iopub.execute_input": "2025-01-22T07:48:00.528007Z",
     "iopub.status.busy": "2025-01-22T07:48:00.527757Z",
     "iopub.status.idle": "2025-01-22T07:48:00.538819Z",
     "shell.execute_reply": "2025-01-22T07:48:00.537989Z",
     "shell.execute_reply.started": "2025-01-22T07:48:00.527985Z"
    },
    "trusted": true
   },
   "outputs": [
    {
     "data": {
      "text/plain": [
       "3"
      ]
     },
     "execution_count": 7,
     "metadata": {},
     "output_type": "execute_result"
    }
   ],
   "source": [
    "messages_df.duplicated().sum()"
   ]
  },
  {
   "cell_type": "markdown",
   "metadata": {},
   "source": [
    "## Remove Duplicate"
   ]
  },
  {
   "cell_type": "code",
   "execution_count": 8,
   "metadata": {
    "execution": {
     "iopub.execute_input": "2025-01-22T07:48:00.540591Z",
     "iopub.status.busy": "2025-01-22T07:48:00.540242Z",
     "iopub.status.idle": "2025-01-22T07:48:00.551224Z",
     "shell.execute_reply": "2025-01-22T07:48:00.550427Z",
     "shell.execute_reply.started": "2025-01-22T07:48:00.540563Z"
    },
    "trusted": true
   },
   "outputs": [],
   "source": [
    "messages_df.drop_duplicates(inplace=True)"
   ]
  },
  {
   "cell_type": "markdown",
   "metadata": {},
   "source": [
    "## Convert Data Frame to List"
   ]
  },
  {
   "cell_type": "code",
   "execution_count": 9,
   "metadata": {
    "execution": {
     "iopub.execute_input": "2025-01-22T07:48:00.552259Z",
     "iopub.status.busy": "2025-01-22T07:48:00.551989Z",
     "iopub.status.idle": "2025-01-22T07:48:00.565145Z",
     "shell.execute_reply": "2025-01-22T07:48:00.564377Z",
     "shell.execute_reply.started": "2025-01-22T07:48:00.552237Z"
    },
    "trusted": true
   },
   "outputs": [
    {
     "data": {
      "text/plain": [
       "['ami ei book ta nite chai',\n",
       " 'Boi kinte cai ami',\n",
       " 'Helo My Name is Rajib, Cell: 1744898066. I need two books below: 1. \"English Conversation Made Natural\" by Language Guru, 2. Speak English Like an American\" by Amy Gillett,',\n",
       " 'Apnara ki IELTS book sell koren',\n",
       " 'পদ্মজা black edition tar price koto',\n",
       " 'amake Higher math 1st paper er guide pdf deoya zabe',\n",
       " 'সমরেশ মজুমদারের কালবেলা',\n",
       " 'poddoja black addition hbe.?',\n",
       " 'Ai boi duta hobe?',\n",
       " 'but cant found this in your website']"
      ]
     },
     "execution_count": 9,
     "metadata": {},
     "output_type": "execute_result"
    }
   ],
   "source": [
    "messages = messages_df.tolist()\n",
    "\n",
    "# Display 10 messages from top\n",
    "messages[:10]"
   ]
  },
  {
   "cell_type": "markdown",
   "metadata": {},
   "source": [
    "# Load Model"
   ]
  },
  {
   "cell_type": "code",
   "execution_count": 10,
   "metadata": {
    "execution": {
     "iopub.execute_input": "2025-01-22T07:48:00.566172Z",
     "iopub.status.busy": "2025-01-22T07:48:00.565873Z",
     "iopub.status.idle": "2025-01-22T07:48:00.860402Z",
     "shell.execute_reply": "2025-01-22T07:48:00.859427Z",
     "shell.execute_reply.started": "2025-01-22T07:48:00.566148Z"
    },
    "trusted": true
   },
   "outputs": [],
   "source": [
    "from dotenv import load_dotenv\n",
    "#from kaggle_secrets import UserSecretsClient\n",
    "#user_secrets = UserSecretsClient()\n",
    "load_dotenv()\n",
    "\n",
    "\n",
    "#api_key = user_secrets.get_secret(\"OPENAI_API_KEY\")\n",
    "api_key = os.getenv(\"OPENAI_API_KEY\")\n"
   ]
  },
  {
   "cell_type": "code",
   "execution_count": 11,
   "metadata": {
    "execution": {
     "iopub.execute_input": "2025-01-22T07:48:00.861628Z",
     "iopub.status.busy": "2025-01-22T07:48:00.861357Z",
     "iopub.status.idle": "2025-01-22T07:48:00.927827Z",
     "shell.execute_reply": "2025-01-22T07:48:00.927092Z",
     "shell.execute_reply.started": "2025-01-22T07:48:00.861605Z"
    },
    "trusted": true
   },
   "outputs": [],
   "source": [
    "from openai import OpenAI\n",
    "\n",
    "client = OpenAI(api_key=api_key)"
   ]
  },
  {
   "cell_type": "markdown",
   "metadata": {},
   "source": [
    "## Define Structured Outputs Formate"
   ]
  },
  {
   "cell_type": "code",
   "execution_count": 12,
   "metadata": {
    "execution": {
     "iopub.execute_input": "2025-01-22T07:48:00.928940Z",
     "iopub.status.busy": "2025-01-22T07:48:00.928710Z",
     "iopub.status.idle": "2025-01-22T07:48:00.940363Z",
     "shell.execute_reply": "2025-01-22T07:48:00.939576Z",
     "shell.execute_reply.started": "2025-01-22T07:48:00.928920Z"
    },
    "trusted": true
   },
   "outputs": [],
   "source": [
    "from pydantic import BaseModel, Field\n",
    "from typing import Optional\n",
    "\n",
    "class NER(BaseModel):\n",
    "    Message: Optional[str] = Field(None, description=\"The message or text to be analyzed.\")\n",
    "    username: Optional[str] = Field(None, description=\"The user's name entity.\")\n",
    "    authorname: Optional[str] = Field(None, description=\"The name of the author.\")\n",
    "    Address: Optional[str] = Field(None, description=\"The address entity.\")\n",
    "    bookname: Optional[str] = Field(None, description=\"The name of the book.\")\n",
    "    productname: Optional[str] = Field(None, description=\"The name of the product.\")\n",
    "    publishername: Optional[str] = Field(None, description=\"The name of the publisher.\")\n",
    "    categoryname: Optional[str] = Field(None, description=\"The name of the category.\")\n",
    "    brandname: Optional[str] = Field(None, description=\"The name of the brand.\")\n",
    "    date: Optional[str] = Field(None, description=\"Date information.\")\n",
    "    phoneno: Optional[str] = Field(None, description=\"The phone number entity.\")\n",
    "    orderno: Optional[str] = Field(None, description=\"The order number entity.\")\n",
    "    trnx_ID: Optional[str] = Field(None, description=\"The transaction ID entity.\")\n",
    "\n"
   ]
  },
  {
   "cell_type": "markdown",
   "metadata": {},
   "source": [
    "# Test Single Massage and extract NER"
   ]
  },
  {
   "cell_type": "code",
   "execution_count": 13,
   "metadata": {
    "execution": {
     "iopub.execute_input": "2025-01-22T07:48:00.941412Z",
     "iopub.status.busy": "2025-01-22T07:48:00.941121Z",
     "iopub.status.idle": "2025-01-22T07:48:00.955061Z",
     "shell.execute_reply": "2025-01-22T07:48:00.954126Z",
     "shell.execute_reply.started": "2025-01-22T07:48:00.941380Z"
    },
    "trusted": true
   },
   "outputs": [
    {
     "data": {
      "text/plain": [
       "'Helo My Name is Rajib, Cell: 1744898066. I need two books below: 1. \"English Conversation Made Natural\" by Language Guru, 2. Speak English Like an American\" by Amy Gillett,'"
      ]
     },
     "execution_count": 13,
     "metadata": {},
     "output_type": "execute_result"
    }
   ],
   "source": [
    "messages[2]"
   ]
  },
  {
   "cell_type": "code",
   "execution_count": 14,
   "metadata": {
    "execution": {
     "iopub.execute_input": "2025-01-22T07:48:00.956398Z",
     "iopub.status.busy": "2025-01-22T07:48:00.955993Z",
     "iopub.status.idle": "2025-01-22T07:48:00.965654Z",
     "shell.execute_reply": "2025-01-22T07:48:00.964843Z",
     "shell.execute_reply.started": "2025-01-22T07:48:00.956353Z"
    },
    "trusted": true
   },
   "outputs": [],
   "source": [
    "system_prompt = \"You are expart to extract the user information with NER. User provided messages will Bengla, English or Both\""
   ]
  },
  {
   "cell_type": "code",
   "execution_count": 15,
   "metadata": {
    "execution": {
     "iopub.execute_input": "2025-01-22T07:48:00.966956Z",
     "iopub.status.busy": "2025-01-22T07:48:00.966692Z",
     "iopub.status.idle": "2025-01-22T07:48:04.116195Z",
     "shell.execute_reply": "2025-01-22T07:48:04.115223Z",
     "shell.execute_reply.started": "2025-01-22T07:48:00.966934Z"
    },
    "trusted": true
   },
   "outputs": [
    {
     "data": {
      "text/plain": [
       "NER(Message='Helo My Name is Rajib, Cell: 1744898066. I need two books below: 1. \"English Conversation Made Natural\" by Language Guru, 2. Speak English Like an American\" by Amy Gillett,', username='Rajib', authorname=None, Address=None, bookname='English Conversation Made Natural, Speak English Like an American', productname=None, publishername=None, categoryname=None, brandname=None, date=None, phoneno='1744898066', orderno=None, trnx_ID=None)"
      ]
     },
     "execution_count": 15,
     "metadata": {},
     "output_type": "execute_result"
    }
   ],
   "source": [
    "\n",
    "completion = client.beta.chat.completions.parse(\n",
    "    model=\"gpt-4o-2024-08-06\",\n",
    "    messages=[\n",
    "        {\"role\": \"system\", \"content\": system_prompt},\n",
    "        {\"role\": \"user\", \"content\": f\"This is user message:\\n{messages[2]}\"},\n",
    "    ],\n",
    "    response_format=NER,\n",
    ")\n",
    "\n",
    "usr_ner = completion.choices[0].message.parsed\n",
    "usr_ner"
   ]
  },
  {
   "cell_type": "markdown",
   "metadata": {},
   "source": [
    "### Convert It Dectionary"
   ]
  },
  {
   "cell_type": "code",
   "execution_count": 16,
   "metadata": {
    "execution": {
     "iopub.execute_input": "2025-01-22T07:48:04.117538Z",
     "iopub.status.busy": "2025-01-22T07:48:04.117193Z",
     "iopub.status.idle": "2025-01-22T07:48:04.123546Z",
     "shell.execute_reply": "2025-01-22T07:48:04.122472Z",
     "shell.execute_reply.started": "2025-01-22T07:48:04.117505Z"
    },
    "trusted": true
   },
   "outputs": [
    {
     "name": "stdout",
     "output_type": "stream",
     "text": [
      "{\n",
      "    \"Message\": \"Helo My Name is Rajib, Cell: 1744898066. I need two books below: 1. \\\"English Conversation Made Natural\\\" by Language Guru, 2. Speak English Like an American\\\" by Amy Gillett,\",\n",
      "    \"username\": \"Rajib\",\n",
      "    \"authorname\": null,\n",
      "    \"Address\": null,\n",
      "    \"bookname\": \"English Conversation Made Natural, Speak English Like an American\",\n",
      "    \"productname\": null,\n",
      "    \"publishername\": null,\n",
      "    \"categoryname\": null,\n",
      "    \"brandname\": null,\n",
      "    \"date\": null,\n",
      "    \"phoneno\": \"1744898066\",\n",
      "    \"orderno\": null,\n",
      "    \"trnx_ID\": null\n",
      "}\n"
     ]
    }
   ],
   "source": [
    "import json\n",
    "\n",
    "ner_dict = {\n",
    "    \"Message\": usr_ner.Message,\n",
    "    # \"Message\": messages[2],\n",
    "    \"username\": usr_ner.username,\n",
    "    \"authorname\": usr_ner.authorname,\n",
    "    \"Address\": usr_ner.Address,\n",
    "    \"bookname\": usr_ner.bookname,\n",
    "    \"productname\": usr_ner.productname,\n",
    "    \"publishername\": usr_ner.publishername,\n",
    "    \"categoryname\": usr_ner.categoryname,\n",
    "    \"brandname\": usr_ner.brandname,\n",
    "    \"date\": usr_ner.date,\n",
    "    \"phoneno\": usr_ner.phoneno,\n",
    "    \"orderno\": usr_ner.orderno,\n",
    "    \"trnx_ID\": usr_ner.trnx_ID,\n",
    "}\n",
    "\n",
    "ner_json = json.dumps(ner_dict, ensure_ascii=False, indent=4)\n",
    "print(ner_json)"
   ]
  },
  {
   "cell_type": "code",
   "execution_count": 20,
   "metadata": {
    "execution": {
     "execution_failed": "2025-01-22T07:55:35.574Z",
     "iopub.execute_input": "2025-01-22T07:48:04.124920Z",
     "iopub.status.busy": "2025-01-22T07:48:04.124601Z"
    },
    "trusted": true
   },
   "outputs": [
    {
     "name": "stderr",
     "output_type": "stream",
     "text": [
      "Processing User Messages: 100%|██████████| 1000/1000 [40:00<00:00,  2.40s/it]"
     ]
    },
    {
     "name": "stdout",
     "output_type": "stream",
     "text": [
      "CSV file '../data/output/users_NER.csv' created successfully.\n"
     ]
    },
    {
     "name": "stderr",
     "output_type": "stream",
     "text": [
      "\n"
     ]
    }
   ],
   "source": [
    "from tqdm import tqdm\n",
    "\n",
    "parsed_events = []\n",
    "\n",
    "for message in tqdm(messages[:1000], desc=\"Processing User Messages\"):\n",
    "    completion = client.beta.chat.completions.parse(\n",
    "        model=\"gpt-4o-2024-08-06\",\n",
    "        messages=[\n",
    "            {\"role\": \"system\", \"content\": system_prompt},\n",
    "            {\"role\": \"user\", \"content\": f\"This is user message:\\n{message}\"},\n",
    "        ],\n",
    "        response_format=NER,\n",
    "    )\n",
    "    usr_message = completion.choices[0].message.parsed\n",
    "\n",
    "  \n",
    "    usr_message_dict = {\n",
    "        \"Message\": message,\n",
    "        \"username\": usr_message.username,\n",
    "        \"authorname\": usr_message.authorname,\n",
    "        \"Address\": usr_message.Address,\n",
    "        \"bookname\": usr_message.bookname,\n",
    "        \"productname\": usr_message.productname,\n",
    "        \"publishername\": usr_message.publishername,\n",
    "        \"categoryname\": usr_message.categoryname,\n",
    "        \"brandname\": usr_message.brandname,\n",
    "        \"date\": usr_message.date,\n",
    "        \"phoneno\": usr_message.phoneno,\n",
    "        \"orderno\": usr_message.orderno,\n",
    "        \"trnx_ID\": usr_message.trnx_ID,\n",
    "    }\n",
    "\n",
    "    parsed_events.append(usr_message_dict)\n",
    "\n",
    "df = pd.DataFrame(parsed_events)\n",
    "\n",
    "# Save the DataFrame to a CSV file\n",
    "csv_file = \"../data/output/users_NER.csv\"\n",
    "df.to_csv(csv_file, index=False)\n",
    "\n",
    "print(f\"CSV file '{csv_file}' created successfully.\")\n"
   ]
  },
  {
   "cell_type": "code",
   "execution_count": 21,
   "metadata": {
    "execution": {
     "execution_failed": "2025-01-22T07:55:35.574Z"
    },
    "trusted": true
   },
   "outputs": [
    {
     "data": {
      "text/html": [
       "<div>\n",
       "<style scoped>\n",
       "    .dataframe tbody tr th:only-of-type {\n",
       "        vertical-align: middle;\n",
       "    }\n",
       "\n",
       "    .dataframe tbody tr th {\n",
       "        vertical-align: top;\n",
       "    }\n",
       "\n",
       "    .dataframe thead th {\n",
       "        text-align: right;\n",
       "    }\n",
       "</style>\n",
       "<table border=\"1\" class=\"dataframe\">\n",
       "  <thead>\n",
       "    <tr style=\"text-align: right;\">\n",
       "      <th></th>\n",
       "      <th>Message</th>\n",
       "      <th>username</th>\n",
       "      <th>authorname</th>\n",
       "      <th>Address</th>\n",
       "      <th>bookname</th>\n",
       "      <th>productname</th>\n",
       "      <th>publishername</th>\n",
       "      <th>categoryname</th>\n",
       "      <th>brandname</th>\n",
       "      <th>date</th>\n",
       "      <th>phoneno</th>\n",
       "      <th>orderno</th>\n",
       "      <th>trnx_ID</th>\n",
       "    </tr>\n",
       "  </thead>\n",
       "  <tbody>\n",
       "    <tr>\n",
       "      <th>0</th>\n",
       "      <td>ami ei book ta nite chai</td>\n",
       "      <td>None</td>\n",
       "      <td>None</td>\n",
       "      <td>None</td>\n",
       "      <td>None</td>\n",
       "      <td>book</td>\n",
       "      <td>None</td>\n",
       "      <td>None</td>\n",
       "      <td>None</td>\n",
       "      <td>None</td>\n",
       "      <td>None</td>\n",
       "      <td>None</td>\n",
       "      <td>None</td>\n",
       "    </tr>\n",
       "    <tr>\n",
       "      <th>1</th>\n",
       "      <td>Boi kinte cai ami</td>\n",
       "      <td>None</td>\n",
       "      <td>None</td>\n",
       "      <td>None</td>\n",
       "      <td>None</td>\n",
       "      <td>Boi</td>\n",
       "      <td>None</td>\n",
       "      <td>None</td>\n",
       "      <td>None</td>\n",
       "      <td>None</td>\n",
       "      <td>None</td>\n",
       "      <td>None</td>\n",
       "      <td>None</td>\n",
       "    </tr>\n",
       "    <tr>\n",
       "      <th>2</th>\n",
       "      <td>Helo My Name is Rajib, Cell: 1744898066. I nee...</td>\n",
       "      <td>Rajib</td>\n",
       "      <td>None</td>\n",
       "      <td>None</td>\n",
       "      <td>\"English Conversation Made Natural\", \"Speak En...</td>\n",
       "      <td>None</td>\n",
       "      <td>None</td>\n",
       "      <td>None</td>\n",
       "      <td>None</td>\n",
       "      <td>None</td>\n",
       "      <td>1744898066</td>\n",
       "      <td>None</td>\n",
       "      <td>None</td>\n",
       "    </tr>\n",
       "    <tr>\n",
       "      <th>3</th>\n",
       "      <td>Apnara ki IELTS book sell koren</td>\n",
       "      <td>None</td>\n",
       "      <td>None</td>\n",
       "      <td>None</td>\n",
       "      <td>IELTS book</td>\n",
       "      <td>None</td>\n",
       "      <td>None</td>\n",
       "      <td>None</td>\n",
       "      <td>None</td>\n",
       "      <td>None</td>\n",
       "      <td>None</td>\n",
       "      <td>None</td>\n",
       "      <td>None</td>\n",
       "    </tr>\n",
       "    <tr>\n",
       "      <th>4</th>\n",
       "      <td>পদ্মজা black edition tar price koto</td>\n",
       "      <td>None</td>\n",
       "      <td>None</td>\n",
       "      <td>None</td>\n",
       "      <td>None</td>\n",
       "      <td>পদ্মজা black edition</td>\n",
       "      <td>None</td>\n",
       "      <td>None</td>\n",
       "      <td>None</td>\n",
       "      <td>None</td>\n",
       "      <td>None</td>\n",
       "      <td>None</td>\n",
       "      <td>None</td>\n",
       "    </tr>\n",
       "    <tr>\n",
       "      <th>...</th>\n",
       "      <td>...</td>\n",
       "      <td>...</td>\n",
       "      <td>...</td>\n",
       "      <td>...</td>\n",
       "      <td>...</td>\n",
       "      <td>...</td>\n",
       "      <td>...</td>\n",
       "      <td>...</td>\n",
       "      <td>...</td>\n",
       "      <td>...</td>\n",
       "      <td>...</td>\n",
       "      <td>...</td>\n",
       "      <td>...</td>\n",
       "    </tr>\n",
       "    <tr>\n",
       "      <th>995</th>\n",
       "      <td>ei book tar English pawa jabe?</td>\n",
       "      <td>None</td>\n",
       "      <td>None</td>\n",
       "      <td>None</td>\n",
       "      <td>None</td>\n",
       "      <td>book</td>\n",
       "      <td>None</td>\n",
       "      <td>None</td>\n",
       "      <td>None</td>\n",
       "      <td>None</td>\n",
       "      <td>None</td>\n",
       "      <td>None</td>\n",
       "      <td>None</td>\n",
       "    </tr>\n",
       "    <tr>\n",
       "      <th>996</th>\n",
       "      <td>বেসরকারি শিক্ষক নিবন্ধন লিখিত বই পাওয়া যাবে?</td>\n",
       "      <td>None</td>\n",
       "      <td>None</td>\n",
       "      <td>None</td>\n",
       "      <td>বেসরকারি শিক্ষক নিবন্ধন লিখিত বই</td>\n",
       "      <td>None</td>\n",
       "      <td>None</td>\n",
       "      <td>None</td>\n",
       "      <td>None</td>\n",
       "      <td>None</td>\n",
       "      <td>None</td>\n",
       "      <td>None</td>\n",
       "      <td>None</td>\n",
       "    </tr>\n",
       "    <tr>\n",
       "      <th>997</th>\n",
       "      <td>shundoR uponnash er boi dekhte chai</td>\n",
       "      <td>None</td>\n",
       "      <td>None</td>\n",
       "      <td>None</td>\n",
       "      <td>shundoR uponnash</td>\n",
       "      <td>None</td>\n",
       "      <td>None</td>\n",
       "      <td>boi</td>\n",
       "      <td>None</td>\n",
       "      <td>None</td>\n",
       "      <td>None</td>\n",
       "      <td>None</td>\n",
       "      <td>None</td>\n",
       "    </tr>\n",
       "    <tr>\n",
       "      <th>998</th>\n",
       "      <td>But 299tk order e notebook ta paini</td>\n",
       "      <td>None</td>\n",
       "      <td>None</td>\n",
       "      <td>None</td>\n",
       "      <td>None</td>\n",
       "      <td>notebook</td>\n",
       "      <td>None</td>\n",
       "      <td>None</td>\n",
       "      <td>None</td>\n",
       "      <td>None</td>\n",
       "      <td>None</td>\n",
       "      <td>299tk</td>\n",
       "      <td>None</td>\n",
       "    </tr>\n",
       "    <tr>\n",
       "      <th>999</th>\n",
       "      <td>Order korte cacchilam</td>\n",
       "      <td>None</td>\n",
       "      <td>None</td>\n",
       "      <td>None</td>\n",
       "      <td>None</td>\n",
       "      <td>None</td>\n",
       "      <td>None</td>\n",
       "      <td>None</td>\n",
       "      <td>None</td>\n",
       "      <td>None</td>\n",
       "      <td>None</td>\n",
       "      <td>None</td>\n",
       "      <td>None</td>\n",
       "    </tr>\n",
       "  </tbody>\n",
       "</table>\n",
       "<p>1000 rows × 13 columns</p>\n",
       "</div>"
      ],
      "text/plain": [
       "                                               Message username authorname  \\\n",
       "0                             ami ei book ta nite chai     None       None   \n",
       "1                                    Boi kinte cai ami     None       None   \n",
       "2    Helo My Name is Rajib, Cell: 1744898066. I nee...    Rajib       None   \n",
       "3                      Apnara ki IELTS book sell koren     None       None   \n",
       "4                  পদ্মজা black edition tar price koto     None       None   \n",
       "..                                                 ...      ...        ...   \n",
       "995                     ei book tar English pawa jabe?     None       None   \n",
       "996       বেসরকারি শিক্ষক নিবন্ধন লিখিত বই পাওয়া যাবে?     None       None   \n",
       "997                shundoR uponnash er boi dekhte chai     None       None   \n",
       "998                But 299tk order e notebook ta paini     None       None   \n",
       "999                              Order korte cacchilam     None       None   \n",
       "\n",
       "    Address                                           bookname  \\\n",
       "0      None                                               None   \n",
       "1      None                                               None   \n",
       "2      None  \"English Conversation Made Natural\", \"Speak En...   \n",
       "3      None                                         IELTS book   \n",
       "4      None                                               None   \n",
       "..      ...                                                ...   \n",
       "995    None                                               None   \n",
       "996    None                   বেসরকারি শিক্ষক নিবন্ধন লিখিত বই   \n",
       "997    None                                   shundoR uponnash   \n",
       "998    None                                               None   \n",
       "999    None                                               None   \n",
       "\n",
       "              productname publishername categoryname brandname  date  \\\n",
       "0                    book          None         None      None  None   \n",
       "1                     Boi          None         None      None  None   \n",
       "2                    None          None         None      None  None   \n",
       "3                    None          None         None      None  None   \n",
       "4    পদ্মজা black edition          None         None      None  None   \n",
       "..                    ...           ...          ...       ...   ...   \n",
       "995                  book          None         None      None  None   \n",
       "996                  None          None         None      None  None   \n",
       "997                  None          None          boi      None  None   \n",
       "998              notebook          None         None      None  None   \n",
       "999                  None          None         None      None  None   \n",
       "\n",
       "        phoneno orderno trnx_ID  \n",
       "0          None    None    None  \n",
       "1          None    None    None  \n",
       "2    1744898066    None    None  \n",
       "3          None    None    None  \n",
       "4          None    None    None  \n",
       "..          ...     ...     ...  \n",
       "995        None    None    None  \n",
       "996        None    None    None  \n",
       "997        None    None    None  \n",
       "998        None   299tk    None  \n",
       "999        None    None    None  \n",
       "\n",
       "[1000 rows x 13 columns]"
      ]
     },
     "execution_count": 21,
     "metadata": {},
     "output_type": "execute_result"
    }
   ],
   "source": [
    "df"
   ]
  },
  {
   "cell_type": "code",
   "execution_count": null,
   "metadata": {},
   "outputs": [],
   "source": []
  }
 ],
 "metadata": {
  "kaggle": {
   "accelerator": "none",
   "dataSources": [
    {
     "datasetId": 6524545,
     "sourceId": 10545141,
     "sourceType": "datasetVersion"
    }
   ],
   "dockerImageVersionId": 30839,
   "isGpuEnabled": false,
   "isInternetEnabled": true,
   "language": "python",
   "sourceType": "notebook"
  },
  "kernelspec": {
   "display_name": "venv",
   "language": "python",
   "name": "python3"
  },
  "language_info": {
   "codemirror_mode": {
    "name": "ipython",
    "version": 3
   },
   "file_extension": ".py",
   "mimetype": "text/x-python",
   "name": "python",
   "nbconvert_exporter": "python",
   "pygments_lexer": "ipython3",
   "version": "3.11.4"
  }
 },
 "nbformat": 4,
 "nbformat_minor": 4
}
